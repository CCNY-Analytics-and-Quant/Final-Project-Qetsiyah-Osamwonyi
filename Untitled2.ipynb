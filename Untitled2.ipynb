{
 "cells": [
  {
   "cell_type": "markdown",
   "id": "5d301b6f-25cf-47af-8292-d2b1e5fccd89",
   "metadata": {},
   "source": [
    "# this is a test"
   ]
  },
  {
   "cell_type": "code",
   "execution_count": null,
   "id": "003b17b6-f3ce-4bb9-b100-fca1a2d7852a",
   "metadata": {},
   "outputs": [],
   "source": [
    "test again"
   ]
  }
 ],
 "metadata": {
  "kernelspec": {
   "display_name": "Python 3 (ipykernel)",
   "language": "python",
   "name": "python3"
  },
  "language_info": {
   "codemirror_mode": {
    "name": "ipython",
    "version": 3
   },
   "file_extension": ".py",
   "mimetype": "text/x-python",
   "name": "python",
   "nbconvert_exporter": "python",
   "pygments_lexer": "ipython3",
   "version": "3.9.7"
  }
 },
 "nbformat": 4,
 "nbformat_minor": 5
}
